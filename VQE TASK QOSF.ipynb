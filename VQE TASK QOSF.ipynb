{
 "cells": [
  {
   "cell_type": "markdown",
   "metadata": {},
   "source": [
    "# Mandatory import Statements"
   ]
  },
  {
   "cell_type": "code",
   "execution_count": 1,
   "metadata": {},
   "outputs": [],
   "source": [
    "import numpy as np\n",
    "from qiskit import QuantumCircuit, Aer, execute\n",
    "from qiskit.visualization import plot_histogram"
   ]
  },
  {
   "cell_type": "markdown",
   "metadata": {},
   "source": [
    "# Used a code to calaculate the hamiltonian in the possible pauli tensored basis"
   ]
  },
  {
   "cell_type": "code",
   "execution_count": 2,
   "metadata": {},
   "outputs": [],
   "source": [
    "# Used this code from another location to decompose the 2-qubit hamiltonian of interest\n",
    "def HS(M1, M2):\n",
    "    \"\"\"Hilbert-Schmidt-Product of two matrices M1, M2\"\"\"\n",
    "    return (np.dot(M1.conjugate().transpose(), M2)).trace()\n",
    "\n",
    "def c2s(c):\n",
    "    \"\"\"Return a string representation of a complex number c\"\"\"\n",
    "    if c == 0.0:\n",
    "        return \"0\"\n",
    "    if c.imag == 0:\n",
    "        return \"%g\" % c.real\n",
    "    elif c.real == 0:\n",
    "        return \"%gj\" % c.imag\n",
    "    else:\n",
    "        return \"%g+%gj\" % (c.real, c.imag)\n",
    "\n",
    "def decompose(H):\n",
    "    \"\"\"Decompose Hermitian 4x4 matrix H into Pauli matrices\"\"\"\n",
    "    from numpy import kron\n",
    "    sx = np.array([[0, 1],  [ 1, 0]], dtype=np.complex128)\n",
    "    sy = np.array([[0, -1j],[1j, 0]], dtype=np.complex128)\n",
    "    sz = np.array([[1, 0],  [0, -1]], dtype=np.complex128)\n",
    "    id = np.array([[1, 0],  [ 0, 1]], dtype=np.complex128)\n",
    "    S = [id, sx, sy, sz]\n",
    "    labels = ['I', 'sigma_x', 'sigma_y', 'sigma_z']\n",
    "    for i in range(4):\n",
    "        for j in range(4):\n",
    "            label = labels[i] + ' \\otimes ' + labels[j]\n",
    "            a_ij = 0.25 * HS(kron(S[i], S[j]), H)\n",
    "            if a_ij != 0.0:\n",
    "                print (\"%s\\t*\\t( %s )\" % (c2s(a_ij), label))"
   ]
  },
  {
   "cell_type": "code",
   "execution_count": 3,
   "metadata": {},
   "outputs": [
    {
     "name": "stdout",
     "output_type": "stream",
     "text": [
      "0.5\t*\t( I \\otimes I )\n",
      "-0.5\t*\t( sigma_x \\otimes sigma_x )\n",
      "-0.5\t*\t( sigma_y \\otimes sigma_y )\n",
      "0.5\t*\t( sigma_z \\otimes sigma_z )\n"
     ]
    }
   ],
   "source": [
    "H = np.array(\n",
    "    [[1, 0, 0, 0], \n",
    "    [0, 0, -1, 0],\n",
    "    [0, -1, 0, 0], \n",
    "    [0, 0, 0, 1]]\n",
    "    , dtype=np.complex128)\n",
    "decompose(H)"
   ]
  },
  {
   "cell_type": "markdown",
   "metadata": {},
   "source": [
    "# Defined the various measurement circuits and corresponding functions to calculate the expectations\n",
    "Given, H = $\\frac{1}{2}(\\mathbb{1} \\otimes \\mathbb{1} + Z \\otimes Z - X \\otimes X - Y \\otimes Y)$ <br>\n",
    "Let,\n",
    "- $H_{1} = \\mathbb{1} \\otimes \\mathbb{1}$\n",
    "- $H_{2} = Z \\otimes Z$\n",
    "- $H_{3} = X \\otimes X$\n",
    "- $H_{4} = Y \\otimes Y$, then, $\\langle H \\rangle = \\frac{1}{2}\\langle H_{1} \\rangle + \\frac{1}{2}\\langle H_{2} \\rangle - \\frac{1}{2}\\langle H_{3} \\rangle - \\frac{1}{2}\\langle H_{4} \\rangle$ and $\\langle H_{1} \\rangle = 1$\n",
    "\n",
    "Also Tested for initial values of theta = 0"
   ]
  },
  {
   "cell_type": "code",
   "execution_count": 4,
   "metadata": {},
   "outputs": [],
   "source": [
    "def prepare_ansatz_circuit(angle1):\n",
    "\n",
    "    ansatz_circ = QuantumCircuit(2)\n",
    "    ansatz_circ.h(0)\n",
    "    ansatz_circ.barrier()\n",
    "    ansatz_circ.cx(0, 1)\n",
    "    ansatz_circ.barrier()\n",
    "    ansatz_circ.rx(angle1, 0)\n",
    "    ansatz_circ.barrier()\n",
    "\n",
    "\n",
    "    \n",
    "    return ansatz_circ "
   ]
  },
  {
   "cell_type": "code",
   "execution_count": 5,
   "metadata": {},
   "outputs": [
    {
     "data": {
      "text/html": [
       "<pre style=\"word-wrap: normal;white-space: pre;background: #fff0;line-height: 1.1;font-family: &quot;Courier New&quot;,Courier,monospace\">     ┌───┐ ░       ░ ┌───────┐ ░ \n",
       "q_0: ┤ H ├─░───■───░─┤ RX(0) ├─░─\n",
       "     └───┘ ░ ┌─┴─┐ ░ └───────┘ ░ \n",
       "q_1: ──────░─┤ X ├─░───────────░─\n",
       "           ░ └───┘ ░           ░ </pre>"
      ],
      "text/plain": [
       "     ┌───┐ ░       ░ ┌───────┐ ░ \n",
       "q_0: ┤ H ├─░───■───░─┤ RX(0) ├─░─\n",
       "     └───┘ ░ ┌─┴─┐ ░ └───────┘ ░ \n",
       "q_1: ──────░─┤ X ├─░───────────░─\n",
       "           ░ └───┘ ░           ░ "
      ]
     },
     "execution_count": 5,
     "metadata": {},
     "output_type": "execute_result"
    }
   ],
   "source": [
    "from math import pi\n",
    "ansatz_circ = prepare_ansatz_circuit(0)\n",
    "ansatz_circ.draw()"
   ]
  },
  {
   "cell_type": "code",
   "execution_count": 6,
   "metadata": {},
   "outputs": [
    {
     "data": {
      "text/html": [
       "<pre style=\"word-wrap: normal;white-space: pre;background: #fff0;line-height: 1.1;font-family: &quot;Courier New&quot;,Courier,monospace\">        ┌───┐ ░       ░ ┌───────┐ ░  ░ ┌─┐   \n",
       "   q_0: ┤ H ├─░───■───░─┤ RX(0) ├─░──░─┤M├───\n",
       "        └───┘ ░ ┌─┴─┐ ░ └───────┘ ░  ░ └╥┘┌─┐\n",
       "   q_1: ──────░─┤ X ├─░───────────░──░──╫─┤M├\n",
       "              ░ └───┘ ░           ░  ░  ║ └╥┘\n",
       "meas_0: ════════════════════════════════╩══╬═\n",
       "                                           ║ \n",
       "meas_1: ═══════════════════════════════════╩═\n",
       "                                             </pre>"
      ],
      "text/plain": [
       "        ┌───┐ ░       ░ ┌───────┐ ░  ░ ┌─┐   \n",
       "   q_0: ┤ H ├─░───■───░─┤ RX(0) ├─░──░─┤M├───\n",
       "        └───┘ ░ ┌─┴─┐ ░ └───────┘ ░  ░ └╥┘┌─┐\n",
       "   q_1: ──────░─┤ X ├─░───────────░──░──╫─┤M├\n",
       "              ░ └───┘ ░           ░  ░  ║ └╥┘\n",
       "meas_0: ════════════════════════════════╩══╬═\n",
       "                                           ║ \n",
       "meas_1: ═══════════════════════════════════╩═\n",
       "                                             "
      ]
     },
     "execution_count": 6,
     "metadata": {},
     "output_type": "execute_result"
    }
   ],
   "source": [
    "def measure_zz_circuit(given_circuit):\n",
    "    zz_meas = given_circuit.copy()\n",
    "    zz_meas.measure_all()\n",
    "    return zz_meas\n",
    "zz_meas = measure_zz_circuit(ansatz_circ)\n",
    "zz_meas.draw()"
   ]
  },
  {
   "cell_type": "code",
   "execution_count": 7,
   "metadata": {},
   "outputs": [],
   "source": [
    "simulator = Aer.get_backend('qasm_simulator')"
   ]
  },
  {
   "cell_type": "code",
   "execution_count": 8,
   "metadata": {},
   "outputs": [],
   "source": [
    "def measure_zz(given_circuit, num_shots = 10000):\n",
    "\n",
    "    zz_meas = measure_zz_circuit(given_circuit)\n",
    "    \n",
    "    result = execute(zz_meas, backend = simulator, shots = num_shots).result()\n",
    "    counts = result.get_counts(zz_meas)\n",
    "    plot_histogram(counts)\n",
    "\n",
    "    if '00' not in counts:\n",
    "        counts['00'] = 0\n",
    "    if '01' not in counts:\n",
    "        counts['01'] = 0\n",
    "    if '10' not in counts:\n",
    "        counts['10'] = 0\n",
    "    if '11' not in counts:\n",
    "        counts['11'] = 0 \n",
    "\n",
    "    total_counts = counts['00'] + counts['11'] + counts['01'] + counts['10']\n",
    "    zz = counts['00'] + counts['11'] - counts['01'] - counts['10']\n",
    "    zz = zz / total_counts\n",
    "    \n",
    "    return zz"
   ]
  },
  {
   "cell_type": "code",
   "execution_count": 9,
   "metadata": {},
   "outputs": [
    {
     "name": "stdout",
     "output_type": "stream",
     "text": [
      "<ZZ> = 1.0\n"
     ]
    }
   ],
   "source": [
    "zz = measure_zz(ansatz_circ)\n",
    "print(\"<ZZ> =\", str(zz))"
   ]
  },
  {
   "cell_type": "code",
   "execution_count": 10,
   "metadata": {},
   "outputs": [],
   "source": [
    "def measure_xx_circuit(given_circuit):\n",
    "    xx_meas = given_circuit.copy()\n",
    "    for i in range(2):\n",
    "        xx_meas.h(i)\n",
    "    \n",
    "    xx_meas.measure_all()\n",
    "    \n",
    "    return xx_meas"
   ]
  },
  {
   "cell_type": "code",
   "execution_count": 11,
   "metadata": {},
   "outputs": [
    {
     "data": {
      "text/html": [
       "<pre style=\"word-wrap: normal;white-space: pre;background: #fff0;line-height: 1.1;font-family: &quot;Courier New&quot;,Courier,monospace\">        ┌───┐ ░       ░ ┌───────┐ ░ ┌───┐ ░ ┌─┐   \n",
       "   q_0: ┤ H ├─░───■───░─┤ RX(0) ├─░─┤ H ├─░─┤M├───\n",
       "        └───┘ ░ ┌─┴─┐ ░ └───────┘ ░ ├───┤ ░ └╥┘┌─┐\n",
       "   q_1: ──────░─┤ X ├─░───────────░─┤ H ├─░──╫─┤M├\n",
       "              ░ └───┘ ░           ░ └───┘ ░  ║ └╥┘\n",
       "meas_0: ═════════════════════════════════════╩══╬═\n",
       "                                                ║ \n",
       "meas_1: ════════════════════════════════════════╩═\n",
       "                                                  </pre>"
      ],
      "text/plain": [
       "        ┌───┐ ░       ░ ┌───────┐ ░ ┌───┐ ░ ┌─┐   \n",
       "   q_0: ┤ H ├─░───■───░─┤ RX(0) ├─░─┤ H ├─░─┤M├───\n",
       "        └───┘ ░ ┌─┴─┐ ░ └───────┘ ░ ├───┤ ░ └╥┘┌─┐\n",
       "   q_1: ──────░─┤ X ├─░───────────░─┤ H ├─░──╫─┤M├\n",
       "              ░ └───┘ ░           ░ └───┘ ░  ║ └╥┘\n",
       "meas_0: ═════════════════════════════════════╩══╬═\n",
       "                                                ║ \n",
       "meas_1: ════════════════════════════════════════╩═\n",
       "                                                  "
      ]
     },
     "execution_count": 11,
     "metadata": {},
     "output_type": "execute_result"
    }
   ],
   "source": [
    "xx_meas = measure_xx_circuit(ansatz_circ)\n",
    "xx_meas.draw()"
   ]
  },
  {
   "cell_type": "code",
   "execution_count": 12,
   "metadata": {},
   "outputs": [
    {
     "name": "stdout",
     "output_type": "stream",
     "text": [
      "<XX> = 1.0\n"
     ]
    }
   ],
   "source": [
    "def measure_xx(given_circuit, num_shots = 10000):\n",
    "    \n",
    "    xx_meas = measure_xx_circuit(given_circuit)\n",
    "    \n",
    "    result = execute(xx_meas, backend = simulator, shots = num_shots).result()\n",
    "    counts = result.get_counts(xx_meas)\n",
    "\n",
    "    if '00' not in counts:\n",
    "        counts['00'] = 0\n",
    "    if '01' not in counts:\n",
    "        counts['01'] = 0\n",
    "    if '10' not in counts:\n",
    "        counts['10'] = 0\n",
    "    if '11' not in counts:\n",
    "        counts['11'] = 0\n",
    "\n",
    "    total_counts = counts['00'] + counts['11'] + counts['01'] + counts['10']\n",
    "    xx = counts['00'] + counts['11'] - counts['01'] - counts['10']\n",
    "    xx = xx / total_counts\n",
    "    \n",
    "    return xx\n",
    "\n",
    "xx = measure_xx(ansatz_circ)\n",
    "print(\"<XX> =\", str(xx))"
   ]
  },
  {
   "cell_type": "code",
   "execution_count": 13,
   "metadata": {},
   "outputs": [],
   "source": [
    "def measure_yy_circuit(given_circuit):\n",
    "    yy_meas = given_circuit.copy()\n",
    "    for i in range(2):\n",
    "        yy_meas.rx(pi/2, i)\n",
    "    \n",
    "    yy_meas.measure_all()\n",
    "    \n",
    "    return yy_meas"
   ]
  },
  {
   "cell_type": "code",
   "execution_count": 14,
   "metadata": {},
   "outputs": [
    {
     "data": {
      "text/html": [
       "<pre style=\"word-wrap: normal;white-space: pre;background: #fff0;line-height: 1.1;font-family: &quot;Courier New&quot;,Courier,monospace\">        ┌───┐ ░       ░ ┌───────┐ ░ ┌──────────┐ ░ ┌─┐   \n",
       "   q_0: ┤ H ├─░───■───░─┤ RX(0) ├─░─┤ RX(pi/2) ├─░─┤M├───\n",
       "        └───┘ ░ ┌─┴─┐ ░ └───────┘ ░ ├──────────┤ ░ └╥┘┌─┐\n",
       "   q_1: ──────░─┤ X ├─░───────────░─┤ RX(pi/2) ├─░──╫─┤M├\n",
       "              ░ └───┘ ░           ░ └──────────┘ ░  ║ └╥┘\n",
       "meas_0: ════════════════════════════════════════════╩══╬═\n",
       "                                                       ║ \n",
       "meas_1: ═══════════════════════════════════════════════╩═\n",
       "                                                         </pre>"
      ],
      "text/plain": [
       "        ┌───┐ ░       ░ ┌───────┐ ░ ┌──────────┐ ░ ┌─┐   \n",
       "   q_0: ┤ H ├─░───■───░─┤ RX(0) ├─░─┤ RX(pi/2) ├─░─┤M├───\n",
       "        └───┘ ░ ┌─┴─┐ ░ └───────┘ ░ ├──────────┤ ░ └╥┘┌─┐\n",
       "   q_1: ──────░─┤ X ├─░───────────░─┤ RX(pi/2) ├─░──╫─┤M├\n",
       "              ░ └───┘ ░           ░ └──────────┘ ░  ║ └╥┘\n",
       "meas_0: ════════════════════════════════════════════╩══╬═\n",
       "                                                       ║ \n",
       "meas_1: ═══════════════════════════════════════════════╩═\n",
       "                                                         "
      ]
     },
     "execution_count": 14,
     "metadata": {},
     "output_type": "execute_result"
    }
   ],
   "source": [
    "yy_meas = measure_yy_circuit(ansatz_circ)\n",
    "yy_meas.draw()"
   ]
  },
  {
   "cell_type": "code",
   "execution_count": 15,
   "metadata": {},
   "outputs": [
    {
     "name": "stdout",
     "output_type": "stream",
     "text": [
      "<YY> = -1.0\n"
     ]
    }
   ],
   "source": [
    "def measure_yy(given_circuit, num_shots = 10000):\n",
    "    \n",
    "    yy_meas = measure_yy_circuit(given_circuit)\n",
    "    \n",
    "    result = execute(yy_meas, backend = simulator, shots = num_shots).result()\n",
    "    counts = result.get_counts(yy_meas)\n",
    "\n",
    "    if '00' not in counts:\n",
    "        counts['00'] = 0\n",
    "    if '01' not in counts:\n",
    "        counts['01'] = 0\n",
    "    if '10' not in counts:\n",
    "        counts['10'] = 0\n",
    "    if '11' not in counts:\n",
    "        counts['11'] = 0\n",
    "\n",
    "    total_counts = counts['00'] + counts['11'] + counts['01'] + counts['10']\n",
    "    yy = counts['00'] + counts['11'] - counts['01'] - counts['10']\n",
    "    yy = yy / total_counts\n",
    "    \n",
    "    return yy\n",
    "\n",
    "yy = measure_yy(ansatz_circ)\n",
    "print(\"<YY> =\", str(yy))"
   ]
  },
  {
   "cell_type": "markdown",
   "metadata": {},
   "source": [
    "# Energy calculation for the particular hamiltonian"
   ]
  },
  {
   "cell_type": "code",
   "execution_count": 16,
   "metadata": {},
   "outputs": [],
   "source": [
    "def get_energy(given_circuit, num_shots = 10000):\n",
    "    \n",
    "    zz = measure_zz(given_circuit, num_shots = num_shots)\n",
    "    yy = measure_yy(given_circuit, num_shots = num_shots)\n",
    "    xx = measure_xx(given_circuit, num_shots = num_shots)\n",
    "#     print(xx, yy, zz)\n",
    "    energy = (0.5)*1 + (-0.5)*xx + (-0.5)*yy + (0.5)*zz\n",
    "#     print(energy)\n",
    "    return energy"
   ]
  },
  {
   "cell_type": "code",
   "execution_count": 17,
   "metadata": {},
   "outputs": [
    {
     "name": "stdout",
     "output_type": "stream",
     "text": [
      "The energy of the trial state is 1.0\n"
     ]
    }
   ],
   "source": [
    "energy = get_energy(ansatz_circ)\n",
    "print(\"The energy of the trial state is\", str(energy))"
   ]
  },
  {
   "cell_type": "markdown",
   "metadata": {},
   "source": [
    "# Here we define the final function and iterate over theta from 0 to 2 pi"
   ]
  },
  {
   "cell_type": "code",
   "execution_count": 18,
   "metadata": {},
   "outputs": [],
   "source": [
    "def calculate_lowest_eigen(num_shots=10000):\n",
    "    theta_range = np.linspace(0, 2 * np.pi, 500)\n",
    "    expectation_values = {}\n",
    "    for theta in theta_range:\n",
    "        ansatz_circ = prepare_ansatz_circuit(theta)\n",
    "        expectation_values[theta] = get_energy(ansatz_circ, num_shots = num_shots)\n",
    "    return expectation_values"
   ]
  },
  {
   "cell_type": "markdown",
   "metadata": {},
   "source": [
    "# Checking plots for various values of num_shots/iterations"
   ]
  },
  {
   "cell_type": "code",
   "execution_count": 19,
   "metadata": {},
   "outputs": [],
   "source": [
    "expectations = {}\n",
    "expectations[10] = calculate_lowest_eigen(num_shots=10)\n",
    "\n",
    "expectations[1000] = calculate_lowest_eigen(num_shots=1000)\n",
    "\n",
    "expectations[10000] = calculate_lowest_eigen(num_shots=10000)"
   ]
  },
  {
   "cell_type": "code",
   "execution_count": 24,
   "metadata": {},
   "outputs": [
    {
     "name": "stdout",
     "output_type": "stream",
     "text": [
      "Minimum energy/hence the eigenvalue for 1000 iterations is -1.0\n",
      "Minimum energy/hence the eigenvalue for 10000 iterations is -1.0\n",
      "Minimum energy/hence the eigenvalue for 10 iterations is -1.0\n"
     ]
    }
   ],
   "source": [
    "for i in {10, 1000, 10000}:\n",
    "    print(\"Minimum energy/hence the eigenvalue for {} iterations is {}\".format(i, min(expectations[i].values())))"
   ]
  },
  {
   "cell_type": "markdown",
   "metadata": {},
   "source": [
    "# Plot the eigenvalues against theta for various cases starting from 10, 1000, 10000"
   ]
  },
  {
   "cell_type": "code",
   "execution_count": 21,
   "metadata": {},
   "outputs": [
    {
     "data": {
      "image/png": "[encoded data removed]",
      "text/plain": [
       "<Figure size 432x288 with 1 Axes>"
      ]
     },
     "metadata": {
      "needs_background": "light"
     },
     "output_type": "display_data"
    }
   ],
   "source": [
    "import matplotlib.pylab as plt\n",
    "\n",
    "lists = sorted(expectations[10].items()) # sorted by key, return a list of tuples\n",
    "\n",
    "x, y = zip(*lists) # unpack a list of pairs into two tuples\n",
    "\n",
    "plt.plot(x, y)\n",
    "plt.show()"
   ]
  },
  {
   "cell_type": "code",
   "execution_count": 22,
   "metadata": {},
   "outputs": [
    {
     "data": {
      "image/png": "[encoded data removed]",
      "text/plain": [
       "<Figure size 432x288 with 1 Axes>"
      ]
     },
     "metadata": {
      "needs_background": "light"
     },
     "output_type": "display_data"
    }
   ],
   "source": [
    "lists = sorted(expectations[1000].items()) # sorted by key, return a list of tuples\n",
    "\n",
    "x, y = zip(*lists) # unpack a list of pairs into two tuples\n",
    "\n",
    "plt.plot(x, y)\n",
    "plt.show()"
   ]
  },
  {
   "cell_type": "code",
   "execution_count": 23,
   "metadata": {},
   "outputs": [
    {
     "data": {
      "image/png": "[encoded data removed]",
      "text/plain": [
       "<Figure size 432x288 with 1 Axes>"
      ]
     },
     "metadata": {
      "needs_background": "light"
     },
     "output_type": "display_data"
    }
   ],
   "source": [
    "lists = sorted(expectations[10000].items()) # sorted by key, return a list of tuples\n",
    "\n",
    "x, y = zip(*lists) # unpack a list of pairs into two tuples\n",
    "\n",
    "plt.plot(x, y)\n",
    "plt.show()"
   ]
  },
  {
   "cell_type": "code",
   "execution_count": null,
   "metadata": {},
   "outputs": [],
   "source": []
  }
 ],
 "metadata": {
  "kernelspec": {
   "display_name": "Python 3",
   "language": "python",
   "name": "python3"
  },
  "language_info": {
   "codemirror_mode": {
    "name": "ipython",
    "version": 3
   },
   "file_extension": ".py",
   "mimetype": "text/x-python",
   "name": "python",
   "nbconvert_exporter": "python",
   "pygments_lexer": "ipython3",
   "version": "3.7.6"
  }
 },
 "nbformat": 4,
 "nbformat_minor": 4
}
